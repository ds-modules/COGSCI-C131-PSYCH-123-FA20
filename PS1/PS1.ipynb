{
 "cells": [
  {
   "cell_type": "markdown",
   "metadata": {},
   "source": [
    "<div style=\"background-color: #c1f2a5\">\n",
    "\n",
    "\n",
    "# PS1\n",
    "\n",
    "This problem set will make you manipulate some basic numpy functions and practice plotting again.\n",
    "\n",
    "# Instructions\n",
    "\n",
    "\n",
    "\n",
    "Remember to do your problem set in Python 3. Fill in `#YOUR CODE HERE`.\n",
    "\n",
    "Make sure: \n",
    "- all plots are scaled in a way so that you can see what is going on, and \n",
    "- that the general patterns are fairly represented. \n",
    "- to label all x and y axes, and to include a title.\n",
    "    \n",
    "</div>"
   ]
  },
  {
   "cell_type": "code",
   "execution_count": null,
   "metadata": {},
   "outputs": [],
   "source": [
    "import numpy as np\n",
    "import matplotlib.pyplot as plt"
   ]
  },
  {
   "cell_type": "markdown",
   "metadata": {},
   "source": [
    "## Q1\n",
    "Plot $y(x)=sin(2^x)$ for $x \\in [-5, 8]$, with $x$ sampled in increments of $0.01$."
   ]
  },
  {
   "cell_type": "code",
   "execution_count": null,
   "metadata": {},
   "outputs": [],
   "source": [
    "#YOUR CODE HERE\n",
    "\n",
    "figure, axis = plt.subplots()\n",
    "\n",
    "#YOUR CODE HERE\n",
    "\n",
    "figure.savefig('PS1_Q1.png')"
   ]
  },
  {
   "cell_type": "markdown",
   "metadata": {},
   "source": [
    "## Q2\n",
    "Using $y(x)$ from the previous question, plot $g(x)=y(x)/y(x+1)$, with the same range of x values as Q1."
   ]
  },
  {
   "cell_type": "code",
   "execution_count": null,
   "metadata": {},
   "outputs": [],
   "source": [
    "#YOUR CODE HERE\n",
    "\n",
    "figure, axis = plt.subplots()\n",
    "\n",
    "#YOUR CODE HERE\n",
    "\n",
    "figure.savefig('PS1_Q2.png')"
   ]
  },
  {
   "cell_type": "markdown",
   "metadata": {},
   "source": [
    "## Q3.1\n",
    "\n",
    "Write a function that computes $f(n)=\\sum_{i=1}^n 1/(i+1)$. Copy your answer into Gradescope's 3.1 field."
   ]
  },
  {
   "cell_type": "code",
   "execution_count": null,
   "metadata": {},
   "outputs": [],
   "source": [
    "#YOUR CODE HERE\n"
   ]
  },
  {
   "cell_type": "markdown",
   "metadata": {},
   "source": [
    "## Q3.2\n",
    "Plot function $f(n)$ from $n=1$ to $100$.\n"
   ]
  },
  {
   "cell_type": "code",
   "execution_count": null,
   "metadata": {},
   "outputs": [],
   "source": [
    "#YOUR CODE HERE\n",
    "\n",
    "figure, axis = plt.subplots()\n",
    "\n",
    "#YOUR CODE HERE\n",
    "\n",
    "figure.savefig('PS1_Q3_2.png') \n"
   ]
  },
  {
   "cell_type": "markdown",
   "metadata": {},
   "source": [
    "## Q4 \n",
    "Plot a histogram of $sin(x)$ where $x$ is chosen from a standard normal distribution (mean = 0, sd = 1). Draw 10,000 samples to make the histogram."
   ]
  },
  {
   "cell_type": "code",
   "execution_count": null,
   "metadata": {},
   "outputs": [],
   "source": [
    "#YOUR CODE HERE\n",
    "\n",
    "figure, axis = plt.subplots()\n",
    "\n",
    "#YOUR CODE HERE\n",
    "\n",
    "figure.savefig('PS1_Q4.png') \n"
   ]
  },
  {
   "cell_type": "markdown",
   "metadata": {},
   "source": [
    "## Q5\n",
    "Plot a histogram of $exp(x)$ where $x$ is chosen from a uniform distribution in $[0,1.5]$. Draw 10,000 samples to make the histogram."
   ]
  },
  {
   "cell_type": "code",
   "execution_count": null,
   "metadata": {},
   "outputs": [],
   "source": [
    "#YOUR CODE HERE\n",
    "\n",
    "figure, axis = plt.subplots()\n",
    "\n",
    "#YOUR CODE HERE\n",
    "\n",
    "figure.savefig('PS1_Q5.png') "
   ]
  },
  {
   "cell_type": "markdown",
   "metadata": {},
   "source": [
    "## Q6.1\n",
    "Save a numpy array of 1000 random samples from a standard normal distribution (mean = 0, standard deviation = 1). Sort the samples, and plot a histogram of the differences between the adjacent sorted elements (the difference between the first and the second, second and the third, third and the fourth, etc.). You may not use the numpy.diff function (please write this part yourself). You can use the built-in sorting function."
   ]
  },
  {
   "cell_type": "code",
   "execution_count": null,
   "metadata": {},
   "outputs": [],
   "source": [
    "#YOUR CODE HERE\n",
    "\n",
    "figure, axis = plt.subplots()\n",
    "\n",
    "#YOUR CODE HERE\n",
    "\n",
    "figure.savefig('PS1_Q6_1.png') "
   ]
  },
  {
   "cell_type": "markdown",
   "metadata": {},
   "source": [
    "## Q6.2\n",
    "Plot the difference computed in 6.1 vs. the position in the sorted array (first, second, etc.). \n"
   ]
  },
  {
   "cell_type": "code",
   "execution_count": null,
   "metadata": {},
   "outputs": [],
   "source": [
    "#YOUR CODE HERE\n",
    "\n",
    "figure, axis = plt.subplots()\n",
    "\n",
    "#YOUR CODE HERE\n",
    "\n",
    "figure.savefig('PS1_Q6_2.png') "
   ]
  },
  {
   "cell_type": "markdown",
   "metadata": {},
   "source": [
    "<div style=\"background-color: #c1f2a5\">\n",
    "\n",
    "# Submission\n",
    "\n",
    "When you're done with your problem set, \n",
    "- Upload your answers in gradescope's PS1.\n",
    "- Upload the whole notebook in PS1-code.\n",
    "\n",
    "\n",
    "</div>\n"
   ]
  },
  {
   "cell_type": "code",
   "execution_count": null,
   "metadata": {},
   "outputs": [],
   "source": []
  }
 ],
 "metadata": {
  "kernelspec": {
   "display_name": "Python 3",
   "language": "python",
   "name": "python3"
  },
  "language_info": {
   "codemirror_mode": {
    "name": "ipython",
    "version": 3
   },
   "file_extension": ".py",
   "mimetype": "text/x-python",
   "name": "python",
   "nbconvert_exporter": "python",
   "pygments_lexer": "ipython3",
   "version": "3.8.3"
  }
 },
 "nbformat": 4,
 "nbformat_minor": 4
}
