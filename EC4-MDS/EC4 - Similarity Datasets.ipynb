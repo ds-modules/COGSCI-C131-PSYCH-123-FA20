{
 "cells": [
  {
   "cell_type": "markdown",
   "metadata": {
    "deletable": false,
    "nbgrader": {}
   },
   "source": [
    "---"
   ]
  },
  {
   "cell_type": "code",
   "execution_count": 2,
   "metadata": {
    "deletable": false,
    "nbgrader": {}
   },
   "outputs": [],
   "source": [
    "%matplotlib inline\n",
    "import matplotlib.pyplot as plt\n",
    "import numpy as np\n",
    "from representations import mds, plot_dendrogram"
   ]
  },
  {
   "cell_type": "markdown",
   "metadata": {
    "deletable": false,
    "nbgrader": {}
   },
   "source": [
    "Michael Lee has an excellent page full of datasets that include human similarity judgments: [http://faculty.sites.uci.edu/mdlee/similarity-data/](http://faculty.sites.uci.edu/mdlee/similarity-data/).\n",
    "\n",
    "To access this data, download the zip file using the function `download_similarity_datasets`. Note that you will need an internet connection for this! Also, if you want to see what this function is doing, you can look at its source code using the double question mark:"
   ]
  },
  {
   "cell_type": "code",
   "execution_count": 3,
   "metadata": {
    "deletable": false,
    "nbgrader": {}
   },
   "outputs": [],
   "source": [
    "from util import download_similarity_datasets\n",
    "download_similarity_datasets??"
   ]
  },
  {
   "cell_type": "code",
   "execution_count": 4,
   "metadata": {
    "deletable": false,
    "nbgrader": {}
   },
   "outputs": [],
   "source": [
    "dataset_location = download_similarity_datasets()"
   ]
  },
  {
   "cell_type": "markdown",
   "metadata": {
    "deletable": false,
    "nbgrader": {}
   },
   "source": [
    "We can take a look at what files we now have:"
   ]
  },
  {
   "cell_type": "code",
   "execution_count": 5,
   "metadata": {
    "deletable": false,
    "nbgrader": {}
   },
   "outputs": [
    {
     "name": "stdout",
     "output_type": "stream",
     "text": [
      "['addtreegrow.m', 'faces11.mat', 'sport_romney.mat', 'toys_romney.mat', 'displayrepn_c.m', 'mds2labs.m', 'colour.mat', 'bodies_viken.mat', 'displaytree.m', 'dotpatterns.mat', 'texturebrodatz_heaps.mat', 'bic.m', 'displayrepn_d.m', 'faces5.mat', 'adclus.m', 'fish_romney.mat', 'distinctclus.m', 'animalnames11.mat', 'texturemit_heaps.mat', 'adclusgrow.m', 'countriessim.mat', 'commonclus.m', 'fruit2_romney.mat', 'vehicles2_romney.mat', 'nonsense_romney.mat', 'furniture2_romney.mat', 'phonemes.mat', 'classicalmds.m', 'fruit_romney.mat', 'fruits.mat', 'countriesdis.mat', 'similarity_dump.txt', 'abstractnumbers.mat', 'weapons_romney.mat', 'faces_steyvers.mat', 'druguse.mat', 'animalpictures11.mat', 'mds2c.m', 'flowerpots.mat', 'country_robinsonhefner.mat', 'diprox.m', 'clothing2_romney.mat', 'textures.mat', 'congress.mat', 'lines_cohen.mat', 'furniture_romney.mat', 'letters.mat', 'auditory.mat', 'tools_romney.mat', 'morsenumbers.mat', 'adclus2.m', 'birds_romney.mat', 'animalpictures5.mat', 'mds.m', 'morseall.mat', 'clothing_romney.mat', 'weapons2_romney.mat', 'animalnames5.mat', 'vegetables2_romney.mat', 'sizeangle_treat.mat', 'vehicles_romney.mat', 'contrastclus.m', 'faces_busey.mat', 'kinship_kimrosenberg.mat', 'mdsresidualsmod.m', 'displayrepn_b.m', 'mdsgrow.m', 'mdsresiduals3.m', 'rectangle_kruschke.mat', 'mds2.m', 'mdsresidualsc.m', 'cartoonfaces.mat', 'vegetables_romney.mat', 'bankwiring.mat', 'mdsresiduals.m', 'bayesgroups.m', 'addtree.m', 'risks.mat']\n"
     ]
    }
   ],
   "source": [
    "import os\n",
    "print(os.listdir(dataset_location))"
   ]
  },
  {
   "cell_type": "markdown",
   "metadata": {
    "deletable": false,
    "nbgrader": {}
   },
   "source": [
    "You'll notice that there are `.m` and `.mat` files. The `.m` files are Matlab scripts, so we'll just ignore those. The `.mat` files are Matlab data files (described on the website above) and we can load them into Python using the scipy function `scipy.io.loadmat`. We've written a helper function called `load_dataset` to do this for you, but you can see what this function is doing by using the double question marks:"
   ]
  },
  {
   "cell_type": "code",
   "execution_count": 6,
   "metadata": {
    "deletable": false,
    "nbgrader": {}
   },
   "outputs": [],
   "source": [
    "from util import load_dataset\n",
    "load_dataset??"
   ]
  },
  {
   "cell_type": "markdown",
   "metadata": {
    "deletable": false,
    "nbgrader": {}
   },
   "source": [
    "As an example, here is some data that is similarity judgments of spoken letters:"
   ]
  },
  {
   "cell_type": "code",
   "execution_count": 7,
   "metadata": {
    "deletable": false,
    "nbgrader": {}
   },
   "outputs": [
    {
     "data": {
      "text/plain": [
       "{'similarities': array([[1.        , 0.21186101, 0.        , ..., 0.        , 0.57995833,\n",
       "         0.        ],\n",
       "        [0.21186101, 1.        , 0.56632333, ..., 0.        , 0.33153499,\n",
       "         0.        ],\n",
       "        [0.        , 0.56632333, 1.        , ..., 0.23119166, 0.03050499,\n",
       "         0.        ],\n",
       "        ...,\n",
       "        [0.        , 0.        , 0.23119166, ..., 1.        , 0.        ,\n",
       "         0.03050499],\n",
       "        [0.57995833, 0.33153499, 0.03050499, ..., 0.        , 1.        ,\n",
       "         0.        ],\n",
       "        [0.        , 0.        , 0.        , ..., 0.03050499, 0.        ,\n",
       "         1.        ]]),\n",
       " 'names': ['A',\n",
       "  'B',\n",
       "  'C',\n",
       "  'D',\n",
       "  'E',\n",
       "  'F',\n",
       "  'G',\n",
       "  'H',\n",
       "  'I',\n",
       "  'J',\n",
       "  'K',\n",
       "  'L',\n",
       "  'M',\n",
       "  'N',\n",
       "  'P',\n",
       "  'Q',\n",
       "  'R',\n",
       "  'S',\n",
       "  'T',\n",
       "  'U',\n",
       "  'V',\n",
       "  'W',\n",
       "  'X',\n",
       "  'Y',\n",
       "  'Z',\n",
       "  '0',\n",
       "  '1',\n",
       "  '2',\n",
       "  '3',\n",
       "  '4',\n",
       "  '5',\n",
       "  '6',\n",
       "  '7',\n",
       "  '8',\n",
       "  '9']}"
      ]
     },
     "execution_count": 7,
     "metadata": {},
     "output_type": "execute_result"
    }
   ],
   "source": [
    "filename = os.path.join(dataset_location, 'auditory.mat')\n",
    "data = load_dataset(filename)\n",
    "data"
   ]
  },
  {
   "cell_type": "markdown",
   "metadata": {
    "collapsed": true,
    "deletable": false,
    "nbgrader": {
     "solution": false
    }
   },
   "source": [
    "---\n",
    "## Part A (5 points)\n",
    "\n",
    "In Part A of this challenge, you will select a new dataset from those downloaded above and analyze it."
   ]
  },
  {
   "cell_type": "markdown",
   "metadata": {
    "deletable": false,
    "nbgrader": {}
   },
   "source": [
    "<div class=\"alert alert-success\">Select a dataset. Go to the website above, find the relevant paper, and read its abstract. Write two sentences below describing the stimuli and what kind of judgment was being made.</div>"
   ]
  },
  {
   "cell_type": "markdown",
   "metadata": {
    "collapsed": true,
    "deletable": false,
    "nbgrader": {
     "checksum": "204c6d0bf8859bbad0bf2a76acbbf17a",
     "grade": true,
     "grade_id": "challenge-a-describe",
     "points": 0.1,
     "solution": true
    }
   },
   "source": [
    "YOUR ANSWER HERE"
   ]
  },
  {
   "cell_type": "markdown",
   "metadata": {
    "deletable": false,
    "nbgrader": {}
   },
   "source": [
    "<div class=\"alert alert-success\">Create 2 or 3 plots revealing patterns or structure present in the data. You may want to create multiple subplots to do this. Hint: you can use two functions we provided you below.</div>"
   ]
  },
  {
   "cell_type": "markdown",
   "metadata": {},
   "source": [
    "We have provided you with a function, `mds`, which performs the MDS algorithm. \n",
    "We have also provided for you a `plot_dendrogram` function that will perform hierarchical clustering and then create a dendrogram plot for you. Look at the documentation for the functions to figure out how to call them."
   ]
  },
  {
   "cell_type": "code",
   "execution_count": null,
   "metadata": {
    "deletable": false,
    "nbgrader": {
     "checksum": "bc10970c9cee3e32639fee90fc671204",
     "grade": false,
     "grade_id": "challenge-a-plot",
     "points": 0.5,
     "solution": true
    }
   },
   "outputs": [],
   "source": [
    "def plot_data():\n",
    "    \"\"\"Plots data from one of the provided data sets.\"\"\"\n",
    "    # YOUR CODE HERE\n",
    "    raise NotImplementedError()"
   ]
  },
  {
   "cell_type": "markdown",
   "metadata": {
    "deletable": false,
    "nbgrader": {}
   },
   "source": [
    "Here's a cell to test your plotting:"
   ]
  },
  {
   "cell_type": "code",
   "execution_count": null,
   "metadata": {
    "deletable": false,
    "nbgrader": {
     "checksum": "60d0e8343ddca0569ffdc9fa5603880f",
     "grade": true,
     "grade_id": "challenge-a-grade",
     "points": 0.15
    }
   },
   "outputs": [],
   "source": [
    "plot_data()"
   ]
  },
  {
   "cell_type": "markdown",
   "metadata": {
    "deletable": false,
    "nbgrader": {}
   },
   "source": [
    "<div class=\"alert alert-success\">Write a paragraph of at least 100 words describing what you observe from the plots.</div>"
   ]
  },
  {
   "cell_type": "markdown",
   "metadata": {
    "collapsed": true,
    "deletable": false,
    "nbgrader": {
     "checksum": "435ff75bec51729c021adddc5523a865",
     "grade": true,
     "grade_id": "challenge-a-analyze",
     "points": 0.25,
     "solution": true
    }
   },
   "source": [
    "YOUR ANSWER HERE"
   ]
  },
  {
   "cell_type": "markdown",
   "metadata": {
    "collapsed": true,
    "deletable": false,
    "nbgrader": {
     "solution": false
    }
   },
   "source": [
    "---\n",
    "## Part B (5 points)\n",
    "\n",
    "In Part B of this challenge, you will collect a new set of similarity data and explore it."
   ]
  },
  {
   "cell_type": "markdown",
   "metadata": {
    "deletable": false,
    "nbgrader": {}
   },
   "source": [
    "<div class=\"alert alert-success\">Select a domain that you think has an interesting similarity space (e.g., ponies from My Little Pony, nose shapes of California politicians). Be creative! Your set should have between 5 and 10 items. You should collect pairwise similarity ratings from at least 5 people (you and at least 4 others). Describe the domain that you chose, and give a bulleted list of the items in your dataset.</div>"
   ]
  },
  {
   "cell_type": "markdown",
   "metadata": {
    "collapsed": true,
    "deletable": false,
    "nbgrader": {
     "checksum": "534da8962d3114c906186ff07ad857e2",
     "grade": true,
     "grade_id": "challenge-b-describe",
     "points": 0.1,
     "solution": true
    }
   },
   "source": [
    "YOUR ANSWER HERE"
   ]
  },
  {
   "cell_type": "markdown",
   "metadata": {
    "deletable": false,
    "nbgrader": {}
   },
   "source": [
    "<div class=\"alert alert-success\">In the following cell, construct a NumPy array that includes the raw similarity scores from each participant. Then, return the average similarity score across participants.</div>"
   ]
  },
  {
   "cell_type": "code",
   "execution_count": null,
   "metadata": {
    "deletable": false,
    "nbgrader": {
     "checksum": "b66dff557d5814a449c8ebe1ac34ad69",
     "grade_id": "similarities",
     "solution": true
    }
   },
   "outputs": [],
   "source": [
    "def similarities():\n",
    "    \"\"\"Returns a matrix of similarity scores, averaged across participants.\"\"\"\n",
    "    # YOUR CODE HERE"
   ]
  },
  {
   "cell_type": "markdown",
   "metadata": {
    "deletable": false,
    "nbgrader": {}
   },
   "source": [
    "<div class=\"alert alert-success\">Create 2 or 3 plots revealing patterns or structure present in this data.</div>"
   ]
  },
  {
   "cell_type": "code",
   "execution_count": null,
   "metadata": {
    "deletable": false,
    "nbgrader": {
     "checksum": "c2fb6f40af1b7af71d5200aac9ede6f8",
     "grade": false,
     "grade_id": "challenge-b-plot",
     "points": 0.5,
     "solution": true
    }
   },
   "outputs": [],
   "source": [
    "def plot_collected_data(similarities):\n",
    "    \"\"\"Plots data from the data set you collected.\"\"\"\n",
    "    # YOUR CODE HERE"
   ]
  },
  {
   "cell_type": "markdown",
   "metadata": {
    "deletable": false,
    "nbgrader": {}
   },
   "source": [
    "Here is a cell to test out your code:"
   ]
  },
  {
   "cell_type": "code",
   "execution_count": null,
   "metadata": {
    "deletable": false,
    "nbgrader": {
     "checksum": "2a24b50fb6f2dc96c31363f77a8f8613",
     "grade": true,
     "grade_id": "challenge-b-plots",
     "points": 0.15
    }
   },
   "outputs": [],
   "source": [
    "plot_collected_data(similarities())"
   ]
  },
  {
   "cell_type": "markdown",
   "metadata": {
    "deletable": false,
    "nbgrader": {}
   },
   "source": [
    "<div class=\"alert alert-success\">Write a paragraph of at least 100 words describing what you observe from the plots.</div>"
   ]
  },
  {
   "cell_type": "markdown",
   "metadata": {
    "collapsed": true,
    "deletable": false,
    "nbgrader": {
     "checksum": "baa8c3ac4aecaa5f750025baa03498a2",
     "grade": true,
     "grade_id": "challenge-b-analyze",
     "points": 0.25,
     "solution": true
    }
   },
   "source": [
    "YOUR ANSWER HERE"
   ]
  },
  {
   "cell_type": "markdown",
   "metadata": {
    "deletable": false,
    "nbgrader": {}
   },
   "source": [
    "---"
   ]
  }
 ],
 "metadata": {
  "celltoolbar": "Edit Metadata",
  "kernelspec": {
   "display_name": "Python 3",
   "language": "python",
   "name": "python3"
  },
  "language_info": {
   "codemirror_mode": {
    "name": "ipython",
    "version": 3
   },
   "file_extension": ".py",
   "mimetype": "text/x-python",
   "name": "python",
   "nbconvert_exporter": "python",
   "pygments_lexer": "ipython3",
   "version": "3.8.3"
  }
 },
 "nbformat": 4,
 "nbformat_minor": 1
}
