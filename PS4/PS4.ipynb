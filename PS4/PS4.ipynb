{
 "cells": [
  {
   "cell_type": "markdown",
   "metadata": {},
   "source": [
    "<div style=\"background-color: #c1f2a5\">\n",
    "\n",
    "\n",
    "# PS4\n",
    "\n",
    "In this problem set, you will implement multidimensional scaling (MDS) from scratch. You may use standard matrix/vector libraries (e.g. numpy) but you must implement two dimensional MDS itself on your own and not use an existing software package. MDS attempts to find an arrangement of points such that the distances between points match human-judged similarities. \n",
    "\n",
    "# Instructions\n",
    "\n",
    "\n",
    "\n",
    "Remember to do your problem set in Python 3. Fill in `#YOUR CODE HERE`.\n",
    "\n",
    "Make sure: \n",
    "- that all plots are scaled in such a way that you can see what is going on (while still respecting specific plotting instructions) \n",
    "- that the general patterns are fairly represented.\n",
    "- to label all x- and y-axes, and to include a title.\n",
    "    \n",
    "</div>"
   ]
  },
  {
   "cell_type": "code",
   "execution_count": 1,
   "metadata": {},
   "outputs": [],
   "source": [
    "import numpy as np\n",
    "import matplotlib.pyplot as plt\n",
    "# to import the data set\n",
    "from scipy.io import loadmat\n",
    "\n"
   ]
  },
  {
   "cell_type": "markdown",
   "metadata": {},
   "source": [
    "## Import and examine data\n",
    "\n",
    "We will be using a data set from Romney, A. K., Brewer, D. D., & Batchelder, W. H. (1993). Predicting Clustering from Semantic Structure. Psychological Science, 4(1), 28-34, via https://faculty.sites.uci.edu/mdlee/similarity-data/. The data set is saved in PS4_dataset.mat, and includes pairwise similarity measures between 21 sports. Make sure that the PS notebook and the data set are in the same directory!\n",
    "\n",
    "As our first step, we will download and examine the data:\n"
   ]
  },
  {
   "cell_type": "code",
   "execution_count": null,
   "metadata": {},
   "outputs": [],
   "source": [
    "data_set = loadmat('PS4_dataset.mat')\n",
    "similarity = data_set['similarity']\n",
    "sport_names = data_set['sport_names']"
   ]
  },
  {
   "cell_type": "markdown",
   "metadata": {},
   "source": [
    "As we can see, our data contains information for 21 different sports as listed below: "
   ]
  },
  {
   "cell_type": "code",
   "execution_count": null,
   "metadata": {},
   "outputs": [],
   "source": [
    "print(sport_names)"
   ]
  },
  {
   "cell_type": "markdown",
   "metadata": {},
   "source": [
    "We also have a similarity matrix for each sport, which gives us the psychological similarity of that sport with all the other sports in the data:"
   ]
  },
  {
   "cell_type": "code",
   "execution_count": null,
   "metadata": {},
   "outputs": [],
   "source": [
    "#Look at the first similarity matrix, which corresponds to football's similarity with itself and all other sports\n",
    "print(similarity[0])"
   ]
  },
  {
   "cell_type": "markdown",
   "metadata": {},
   "source": [
    "## Q1. Visualize similarity [5pts, HELP]"
   ]
  },
  {
   "cell_type": "markdown",
   "metadata": {},
   "source": [
    "Plot the \"similarity\" measures from the data as a heatmap. Don't forget to:\n",
    "\n",
    "       1)Label the heatmap's rows and columns with the corresponding sport (rotate the x-axis labels by 45 degrees so that the labels are readable)\n",
    "\n",
    "       2)Add a title to your figure (e.g. similarity)\n",
    "\n",
    "       3)Add a colorbar. Limit the colobar values between 0 and 1.\n",
    "\n",
    "       4)Use default colormap\n",
    "\n",
    "       5)Upload figure PS4_Q1.png to gradescope.\n",
    "\n",
    "Hint - look up matplotlib's imshow. "
   ]
  },
  {
   "cell_type": "code",
   "execution_count": null,
   "metadata": {},
   "outputs": [],
   "source": [
    "#YOUR CODE HERE\n",
    "\n",
    "figure.savefig('PS4_Q1.png')\n"
   ]
  },
  {
   "cell_type": "markdown",
   "metadata": {},
   "source": [
    "## Q2. Distance [2 pts, SOLO]\n",
    "\n",
    "To implement MDS, we need a measure of psychological **distance**. The dataset includes measures of similarity, not distance. \n",
    "\n",
    "Here we will use *d = 1-s* as a  method to transform similarity to distance.  \n",
    "\n",
    "Write a function that converts all similarity measures in the dataset into distances, using the above provided transformation method. Function should return the output called distance (Hint: this variable will be used as an input in some of the functions you'll write in the following questions).\n",
    "\n",
    "Plot a scatterplot of the dataset's distances (x axis) against their similarity (y axis). Label your figure.\n",
    "\n",
    "Upload figure PS4_Q2.png to gradescope.\n"
   ]
  },
  {
   "cell_type": "code",
   "execution_count": null,
   "metadata": {},
   "outputs": [],
   "source": [
    "#YOUR CODE HERE\n",
    "\n",
    "\n",
    "figure.savefig('PS4_Q2.png')"
   ]
  },
  {
   "cell_type": "markdown",
   "metadata": {},
   "source": [
    "## Q3. Stress [5 pts, SOLO] \n",
    "\n",
    "To perform MDS, we will try to find, for each sport i, a position $p_i=(x_i,y_i)$ in the 2d space that captures the participants’ similarities. To do so, we will build an algorithm that minimizes the stress. We’ll define stress slightly differently than in class- the squared difference between psychological distance $\\psi_{ij}= (1-s_{ij})$ and the MDS distance in 2D space: \n",
    "\n",
    "$$ \\mathrm{Stress \\ S} = \\sum_{i\\neq j} (\\psi_{ij} - dist(p_i,p_j))^2$$\n",
    "\n",
    "Where $\\psi$ is the psychological distance between sport i and sport j that was reported by subjects, and *dist(pi,pj)* corresponds to the **Euclidean distance**:$\\sqrt{(x_i-x_j)^2 + (y_i-y_j)^2}$ \n",
    "\n",
    "Write a function that computes the Euclidean Distance between two points $p_1$ and $p2$. Then, write a function that takes a $(n,2)$ (n=number of sports) matrix of $(x,y)$ positions for each sport, and computes the stress based on the equation above, using your Euclidean Distance function. \n",
    "\n",
    "Copy the StressCalc function into gradescope."
   ]
  },
  {
   "cell_type": "code",
   "execution_count": 5,
   "metadata": {},
   "outputs": [],
   "source": [
    "def EuclideanDistance(p1,p2):\n",
    "    ''' Takes positions defined by p1 and p2, and returns a euclidean distance value (single number).\n",
    "    Implement EQ equation provided in the question. Hint: if p1=p2, the function should return the value of 0'''\n",
    "    \n",
    "    \n",
    "    \n",
    "    \n",
    "    \n",
    "\n",
    "    #YOUR CODE HERE\n",
    "    return ED"
   ]
  },
  {
   "cell_type": "code",
   "execution_count": 2,
   "metadata": {},
   "outputs": [],
   "source": [
    "def StressCalc(positions, distance):\n",
    "    ''' Takes positions (n,2) and (n,n) matrix of distance measures\n",
    "    (You will use the distance matrix from Q2). \n",
    "    Uses these distances and the EuclideanDistance function above which computes ED based on positions\n",
    "    to calculate the Stress between psychological and ED distances, according to the provided formula.''' \n",
    "    \n",
    "    #YOUR CODE HERE\n",
    "    \n",
    "    \n",
    "    \n",
    "    \n",
    "    \n",
    "    \n",
    "    return stress\n",
    "    \n",
    "    "
   ]
  },
  {
   "cell_type": "code",
   "execution_count": null,
   "metadata": {},
   "outputs": [],
   "source": [
    "# Test case! \n",
    "'''\n",
    "Test case for StressCalc: create an array of positions, where each entry is 1.\n",
    "Use this positions matrix and distance matrix from Q2 to call StressCalc function\n",
    "'''\n",
    "\n",
    "positions = np.ones((len(similarity),2))\n",
    "print(['Stress value should be 111.57. Output stress value is: ' + str(StressCalc(positions,distance))])\n"
   ]
  },
  {
   "cell_type": "markdown",
   "metadata": {},
   "source": [
    "## Q4. Gradient [10 pts, HELP]\n",
    "To minimize the stress, we will numerically compute the gradient using a multidimensional version of the simple rule for derivatives:\n",
    "\n",
    "$$ \\frac{df}{dp}(p) = \\frac{f(p+\\delta)-f(p-\\delta)}{2\\delta}$$\n",
    "\n",
    "where $\\delta$ takes on a small value, and $f$ is the stress function you wrote in the previous question. To compute the gradient, we will compute this approximate derivative with respect to each coordinate of each point.\n",
    "\n",
    "Write a function that takes an n-by-2 matrix (n=number of sports) of (x,y) positions for each sport and computes the gradient (i.e. applies the numerical rule above to each coordinate location). This should return an n-by-2 gradient matrix.\n",
    "\n",
    "\n",
    "Use $\\delta$ = 0.01\n",
    "\n",
    "Copy your code into gradescope.\n"
   ]
  },
  {
   "cell_type": "code",
   "execution_count": null,
   "metadata": {},
   "outputs": [],
   "source": [
    "delta = .01\n",
    "positions = np.random.rand(len(similarity),2)\n",
    "\n",
    "#YOUR CODE HERE"
   ]
  },
  {
   "cell_type": "markdown",
   "metadata": {},
   "source": [
    "## Q5.1 MDS [10 pts, HELP]\n",
    "\n",
    "Write the MDS code: the code that follows a gradient in order to find positions that minimize the stress. Start from a random position, and be sure to take small steps in the direction of the gradient (e.g.  α*gradient, with step size  α=0.01), to find a set of positions that minimizes the stress. Use 100 steps of gradient descent.\n",
    "\n",
    "Copy your code in gradescope."
   ]
  },
  {
   "cell_type": "code",
   "execution_count": null,
   "metadata": {},
   "outputs": [],
   "source": [
    "#YOUR CODE HERE"
   ]
  },
  {
   "cell_type": "markdown",
   "metadata": {},
   "source": [
    "## Q5.2 [5 pts, SOLO]\n",
    "\n",
    "Plot the names of sports at the resulting coordinates.Hint: look up axis.text for plotting the sports names.\n",
    "\n",
    "Upload PS4_Q5_2.png in gradescope."
   ]
  },
  {
   "cell_type": "code",
   "execution_count": null,
   "metadata": {},
   "outputs": [],
   "source": [
    "#YOUR CODE HERE\n",
    "\n",
    "figure.savefig('PS4_Q5_2.png')"
   ]
  },
  {
   "cell_type": "markdown",
   "metadata": {},
   "source": [
    "## Q5.3 [5 pts, SOLO]\n",
    "Plot the stress as a function of step number (x axis = step number, y axis= stress).\n",
    "\n",
    "Upload PS4_Q5_3 in gradescope."
   ]
  },
  {
   "cell_type": "code",
   "execution_count": null,
   "metadata": {},
   "outputs": [],
   "source": [
    "#YOUR CODE HERE\n",
    "\n",
    "figure.savefig('PS4_Q5_3.png')"
   ]
  },
  {
   "cell_type": "markdown",
   "metadata": {},
   "source": [
    "## Q6. Validation [5pts, SOLO] \n",
    "\n",
    "Make a scatter plot of the distances obtained by running your MDS function vs. people's reported distances *d=(1-s)*. \n",
    "\n",
    "Upload PS4_Q6.png to gradescope. \n",
    "\n",
    "Briefly describe what a good and bad MDS-psychological distance relationship would look like, and whether yours is good or bad. Enter your response in gradescope.\n"
   ]
  },
  {
   "cell_type": "code",
   "execution_count": null,
   "metadata": {},
   "outputs": [],
   "source": [
    "#YOUR CODE HERE\n",
    "\n",
    "figure.savefig('PS4_Q6.png')"
   ]
  },
  {
   "cell_type": "markdown",
   "metadata": {},
   "source": [
    "## Q7.1 Iterating MDS [3pts, SOLO]\n",
    "\n",
    "Run your MDS code 9 times, and plot the corresponding final positions in a figure with subplots in a 3x3 grid. Indicate the code iteration number in each subplot title. Scale the figure size using figsize=(15,15). \n",
    "\n",
    "Are they all the same or not? Why? Enter your response in gradescope.\n",
    "\n",
    "Upload PS4_Q7_1.png in gradescope."
   ]
  },
  {
   "cell_type": "code",
   "execution_count": null,
   "metadata": {},
   "outputs": [],
   "source": [
    "#YOUR CODE HERE\n",
    "\n",
    "figure.savefig('PS4_Q7_1.png')"
   ]
  },
  {
   "cell_type": "markdown",
   "metadata": {},
   "source": [
    "## Q7.2 Best representation [3pts, SOLO]\n",
    "In another figure, plot the final stress value as a function of the MDS iteration (9) in the previous question. If you wanted to pick the best final representation based on this plot, how would you do it? What criteria would you use? Which iteration is your best?\n",
    "\n",
    "Enter your answer in gradescope.\n",
    "\n",
    "Upload PS4_Q7_2.png."
   ]
  },
  {
   "cell_type": "code",
   "execution_count": null,
   "metadata": {},
   "outputs": [],
   "source": [
    "#YOUR CODE HERE\n",
    "\n",
    "figure.savefig('PS4_Q7_2.png')"
   ]
  },
  {
   "cell_type": "markdown",
   "metadata": {},
   "source": [
    "## Q7.3 [4pts, SOLO]\n",
    "Do your best results agree with your intuitions about how this domain might be organized? Why or why not? Answer in 2-3 sentences. \n",
    "\n",
    "Enter your response in gradescope.\n"
   ]
  },
  {
   "cell_type": "markdown",
   "metadata": {},
   "source": [
    "## Q8 [5pts, SOLO]\n",
    "\n",
    "Run MDS 2 times, with 2 different step sizes (α=.02 and  α=.05). Plot Stress over time for each run in the same plot. Don't forget to add a legend,labeling which MDS step size the line refers to, in addition to the usual axis labels and title. What happens if you use a bigger step in your MDS? Why?\n",
    "\n",
    "\n",
    "Enter your answer in gradescope.\n",
    "\n",
    "Upload PS4_Q8.png."
   ]
  },
  {
   "cell_type": "code",
   "execution_count": null,
   "metadata": {},
   "outputs": [],
   "source": [
    "#YOUR CODE HERE\n",
    "\n",
    "figure.savefig('PS4_Q8.png')"
   ]
  },
  {
   "cell_type": "markdown",
   "metadata": {},
   "source": [
    "<div style=\"background-color: #c1f2a5\">\n",
    "\n",
    "# Submission\n",
    "\n",
    "When you're done with your problem set, do the following:\n",
    "- Upload your answers in Gradescope's PS4.\n",
    "- Upload your code as .py file in PS4-code in Gradescope (To convert the notebook into .py file click on File > Download as > Python (.py)).\n",
    "    \n",
    "\n",
    "\n",
    "\n",
    "</div>"
   ]
  },
  {
   "cell_type": "code",
   "execution_count": null,
   "metadata": {},
   "outputs": [],
   "source": []
  }
 ],
 "metadata": {
  "kernelspec": {
   "display_name": "Python 3",
   "language": "python",
   "name": "python3"
  },
  "language_info": {
   "codemirror_mode": {
    "name": "ipython",
    "version": 3
   },
   "file_extension": ".py",
   "mimetype": "text/x-python",
   "name": "python",
   "nbconvert_exporter": "python",
   "pygments_lexer": "ipython3",
   "version": "3.8.3"
  },
  "toc": {
   "base_numbering": 1,
   "nav_menu": {},
   "number_sections": false,
   "sideBar": true,
   "skip_h1_title": false,
   "title_cell": "Table of Contents",
   "title_sidebar": "Contents",
   "toc_cell": false,
   "toc_position": {},
   "toc_section_display": true,
   "toc_window_display": false
  },
  "varInspector": {
   "cols": {
    "lenName": 16,
    "lenType": 16,
    "lenVar": 40
   },
   "kernels_config": {
    "python": {
     "delete_cmd_postfix": "",
     "delete_cmd_prefix": "del ",
     "library": "var_list.py",
     "varRefreshCmd": "print(var_dic_list())"
    },
    "r": {
     "delete_cmd_postfix": ") ",
     "delete_cmd_prefix": "rm(",
     "library": "var_list.r",
     "varRefreshCmd": "cat(var_dic_list()) "
    }
   },
   "types_to_exclude": [
    "module",
    "function",
    "builtin_function_or_method",
    "instance",
    "_Feature"
   ],
   "window_display": false
  }
 },
 "nbformat": 4,
 "nbformat_minor": 4
}
