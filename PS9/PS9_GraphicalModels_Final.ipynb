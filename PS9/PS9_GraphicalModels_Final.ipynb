{
 "cells": [
  {
   "cell_type": "markdown",
   "metadata": {},
   "source": [
    "<div style=\"background-color: #c1f2a5\">\n",
    "\n",
    "\n",
    "# PS9\n",
    "\n",
    "In this problem set, we will work with graphical models to reason from data to hypothesis.\n",
    "# Instructions\n",
    "\n",
    "\n",
    "\n",
    "Remember to do your problem set in Python 3. Fill in `#YOUR CODE HERE`.\n",
    "\n",
    "Make sure: \n",
    "- that all plots are scaled in such a way that you can see what is going on (while still respecting specific plotting instructions) \n",
    "- that the general patterns are fairly represented.\n",
    "- to label all x- and y-axes, and to include a title.\n",
    "    \n",
    "</div>"
   ]
  },
  {
   "cell_type": "code",
   "execution_count": null,
   "metadata": {
    "deletable": false,
    "nbgrader": {}
   },
   "outputs": [],
   "source": [
    "import numpy as np"
   ]
  },
  {
   "cell_type": "markdown",
   "metadata": {
    "nbgrader": {}
   },
   "source": [
    "\n",
    "  Bayesian networks provide an efficient way of representing a probability distribution. This made them very popular in artificial intelligence research, because they make it easy to handle uncertainty, as well as inferences both from cause to effect (making predictions) and effect to cause (forming explanations). These factors traditionally presented a challenge for AI approaches based on rules and symbols, such as production systems.\n",
    "  \n",
    "Read more about Bayesian networks here:\n",
    "https://en.wikipedia.org/wiki/Bayesian_network\n",
    "\n",
    "  The figure below shows a simple graphical model relating three variables. $X$ indicates whether the sprinklers were on last night, $Y$ indicates whether it rained last night, and $Z$ indicates whether the grass is wet. All three variables take on two values, with the value 1 being yes, and 0 being no.\n",
    "    \n",
    "       \n",
    "</div>    \n",
    "    \n",
    "    \n",
    "    \n",
    "\n",
    "<center>    \n",
    "  <img src=\"https://www.dropbox.com/s/y67y8owgvi63ogo/sprinklers.png?raw=1\" width=\"300\"/>\n",
    "</center>\n",
    "\n",
    "\n",
    "\n",
    "---\n"
   ]
  },
  {
   "cell_type": "markdown",
   "metadata": {},
   "source": [
    "<div class=\"alert alert-danger\">Note that in this problem, we will ask you to write down several equations. Your equations should be formatted using LaTeX. Refer back to Problem Set 0 if you forget how to format equations with LaTeX. **If your equations are not formatted with LaTeX, you will not receive full credit.**\n",
    "</div>\n",
    "\n",
    "Here are some examples on how to write equations in LaTeX. Gradescope will also accept LaTeX formatting.\n",
    "\n",
    "To write a formula, use `$` signs: typing `$P(A|B)=.5$` will give you $P(A|B) = .5$. \n",
    "\n",
    "\n",
    "To write a fraction, type `$\\frac{A}{B}$`, which will come out as $\\frac{A}{B}$\n",
    "\n",
    "To write a sum, write `$\\sum_{i=0}^n p(X=x_i) = 1$`, which will come out as $\\sum_{i=0}^n p(X=x_i) = 1$\n",
    "\n",
    "\n",
    "tYou can combine all of this for more complex equations, for example equation in Q5 is coded like this:\n",
    "```\n",
    "$$\n",
    "P(X=x,Y=y|Z=z)=\\frac{P(X=x, Y=y, Z=z)}{\\sum_{x'\\in\\{0, 1\\}}\\sum_{y'\\in \\{0, 1\\}} P(X=x', Y=y', Z=z)}\n",
    "$$```\n",
    "which gives you this:\n",
    "\n",
    "$$\n",
    "P(X=x,Y=y|Z=z)=\\frac{P(X=x, Y=y, Z=z)}{\\sum_{x'\\in\\{0, 1\\}}\\sum_{y'\\in \\{0, 1\\}} P(X=x', Y=y', Z=z)}\n",
    "$$"
   ]
  },
  {
   "cell_type": "markdown",
   "metadata": {
    "deletable": false,
    "nbgrader": {}
   },
   "source": [
    "## Q1 [2pts, HELP]\n",
    "\n",
    "In this model, $X$, and $Y$ are <i>Bernoulli</i>-distributed random variables. A Bernoulli random variable takes a value of 1 with sucess probability $\\theta$ and a value of 0 with failure probability $1-\\theta$, where $\\theta \\in [0,1]$. For example, for $X$, we could write $P(X=1)=\\theta_X$ and $P(X=0)=1-\\theta_X$. Similarly, for $Y$, we can write $P(Y=1)=\\theta_Y$ and $P(Y=0)=1-\\theta_Y$.\n",
    "\n",
    "(If you are familiar with the <i>Binomial</i> distribution, the <i>Bernoulli</i> is a special case, where $n$ = 1.)\n",
    "\n",
    "Read more about these distributions following the links below:\n",
    "\n",
    "<i>Bernoulli</i> https://en.wikipedia.org/wiki/Bernoulli_distribution\n",
    "\n",
    "<i>Binomial</i> https://en.wikipedia.org/wiki/Binomial_distribution\n",
    "\n",
    "<div class=\"alert alert-success\">Complete the function `bernoulli` which returns the probability of a Bernoulli-distributed random variable (such as $X$ or $Y$) taking a particular value given success probability $\\theta$. Copy your function and the output of the following cell in gradescope.\n",
    "</div>"
   ]
  },
  {
   "cell_type": "markdown",
   "metadata": {},
   "source": [
    "**Q1 A** Copy your bernoulli function into Gradescope"
   ]
  },
  {
   "cell_type": "code",
   "execution_count": null,
   "metadata": {
    "deletable": false,
    "nbgrader": {
     "checksum": "460824a333aa5c5ca0c16a81a6307234",
     "grade": false,
     "grade_id": "bernoulli",
     "solution": true
    }
   },
   "outputs": [],
   "source": [
    "def bernoulli(value, theta):\n",
    "    \"\"\"\n",
    "    Returns the probability that this variable will take on the \n",
    "    specified value given success probability theta.\n",
    "    \n",
    "    Parameters\n",
    "    ----------\n",
    "    \n",
    "    value: integer\n",
    "        Value of the random variable (either 0 or 1)\n",
    "    theta : float\n",
    "        Probability of success (between 0 and 1)\n",
    " \n",
    "    Returns\n",
    "    -------\n",
    "    a float corresponding to the the probability of realizing the value\n",
    "\n",
    "    \"\"\"  \n",
    "    # YOUR CODE HERE\n"
   ]
  },
  {
   "cell_type": "markdown",
   "metadata": {},
   "source": [
    "**Q1 B** Copy the output of the below cell into Gradescope"
   ]
  },
  {
   "cell_type": "code",
   "execution_count": null,
   "metadata": {
    "deletable": false,
    "nbgrader": {}
   },
   "outputs": [],
   "source": [
    "# Copy the output of this cell in gradescope\n",
    "print(\"P(X=0 | theta=0.2) = \" + str(bernoulli(0, .2)))\n",
    "print(\"P(X=1 | theta=0.2) = \" + str(bernoulli(1, .2)))\n",
    "print(\"P(Y=0 | theta=0.4) = \" + str(bernoulli(0, .4)))\n",
    "print(\"P(Y=1 | theta=0.4) = \" + str(bernoulli(1, .4)))"
   ]
  },
  {
   "cell_type": "code",
   "execution_count": null,
   "metadata": {
    "deletable": false,
    "nbgrader": {}
   },
   "outputs": [],
   "source": [
    "# add your own test cases here!\n"
   ]
  },
  {
   "cell_type": "code",
   "execution_count": null,
   "metadata": {
    "deletable": false,
    "nbgrader": {
     "checksum": "297a1bb0105d76d2695ddbef50af73c1",
     "grade": true,
     "grade_id": "test_bernoulli",
     "points": 1
    }
   },
   "outputs": [],
   "source": [
    "\"\"\"Check that `bernoulli` produces expected output.\"\"\"\n",
    "from nose.tools import assert_equal\n",
    "\n",
    "for theta in np.linspace(0, 1, 100):\n",
    "    assert_equal(bernoulli(0, theta), 1 - theta)\n",
    "    assert_equal(bernoulli(1, theta), theta)\n",
    "\n",
    "print(\"Success!\")"
   ]
  },
  {
   "cell_type": "markdown",
   "metadata": {
    "deletable": false,
    "nbgrader": {}
   },
   "source": [
    "---\n",
    "## Q2 - Computing the joint probability [7 pts total]\n",
    "\n",
    "In the current case, we will say that the probability that $X=1$ (that the sprinkler is on) is $0.6$, and the probability that $Y=1$ (that it rained) is $0.2$. In other words, $\\theta_X = 0.6$ and $\\theta_Y = 0.2$.\n",
    "\n",
    "Below, we define two functions `p_x` and `p_y` by calling the `bernoulli` function you just wrote, using $0.6$ and $0.2$ as the theta values respectively. Additionally, we will say that the probability of $Z$ given $X$ and $Y$ (the probability of the state of the grass, given whether it rained and whether the sprinkler is on) is given in this table (Table 1):\n",
    "\n",
    "\n",
    "<table class=\"table table-striped\" style=\"width: 32em;\">\n",
    "    <thead>\n",
    "    <tr>\n",
    "        <th>$x$</th> \n",
    "        <th>$y$</th> \n",
    "        <th style=\"white-space: nowrap; width:20em\">$P(~Z=1~|~X=x,Y=y~)$</th> \n",
    "    </tr>\n",
    "    </thead>\n",
    "    <tbody>\n",
    "    <tr>\n",
    "        <td>0</td>\n",
    "        <td>0</td>\n",
    "        <td>0.05</td>\n",
    "    </tr>\n",
    "    <tr>\n",
    "        <td> 0 </td>\n",
    "        <td> 1 </td>\n",
    "        <td> 1.0 </td>\n",
    "    </tr>\n",
    "    <tr>\n",
    "        <td> 1 </td>\n",
    "        <td> 0 </td>\n",
    "        <td> 1.0 </td>\n",
    "    </tr>\n",
    "    <tr>\n",
    "        <td> 1 </td>\n",
    "        <td> 1 </td>\n",
    "        <td> 1.0 </td>\n",
    "    </tr>\n",
    "    </tbody>\n",
    "</table>\n",
    "\n",
    "The provided function `p_z_given_xy` returns probability that \n",
    "$Z=z$ for a given combination of $x$ and $y$, following the above table:"
   ]
  },
  {
   "cell_type": "code",
   "execution_count": null,
   "metadata": {
    "deletable": false,
    "nbgrader": {
     "checksum": "c54806b5c185f319483ef76c0229eee0",
     "grade": false,
     "grade_id": "priors",
     "locked": true,
     "solution": false
    }
   },
   "outputs": [],
   "source": [
    "def p_x(x):\n",
    "    \"\"\"Computes P(X=x)\"\"\"\n",
    "    return bernoulli(x, 0.6)\n",
    "\n",
    "def p_y(y):\n",
    "    \"\"\"Computes P(Y=y)\"\"\"\n",
    "    return bernoulli(y, 0.2)\n",
    "\n",
    "def p_z_given_xy(z, x, y):\n",
    "    \"\"\"Computes P(Z=z | X=x, Y=y)\"\"\"\n",
    "    if x == 0 and y == 0:\n",
    "        return bernoulli(z, 0.05)\n",
    "    else:\n",
    "        return bernoulli(z, 1)"
   ]
  },
  {
   "cell_type": "markdown",
   "metadata": {
    "deletable": false,
    "nbgrader": {}
   },
   "source": [
    "Given the above information about $P(X=x)$, $P(Y=y)$, and $P(Z=z\\ |\\ X=x,X=y)$, it is now possible to derive the joint probability distribution on $X$, $Y$, and $Z$ in order to populate the fourth column for the following table, Table 2. We'll walk through how we'll calculate this in the next few problems.\n",
    "  \n",
    "<table class=\"table table-striped\" style=\"width: 20em;\">\n",
    "    <thead>\n",
    "\t<tr>\n",
    "\t\t<th> $x$ </th>\n",
    "\t\t<th> $y$ </th>\n",
    "\t\t<th> $z$ </th>\n",
    "\t\t<th style=\"white-space: nowrap; width:10em\"> $P(~x,y,z~)$ </th>\n",
    "\t</tr>\n",
    "    </thead>\n",
    "    <tbody>\n",
    "\t<tr>\n",
    "\t\t<td> 0 </td>\n",
    "\t\t<td> 0 </td>\n",
    "\t\t<td> 0 </td>\n",
    "\t\t<td></td>\n",
    "\t</tr>\n",
    "\t<tr>\n",
    "\t\t<td> 0 </td>\n",
    "\t\t<td> 0 </td>\n",
    "\t\t<td> 1 </td>\n",
    "\t\t<td></td>\n",
    "\t</tr>\n",
    "\t<tr>\n",
    "\t\t<td> 0 </td>\n",
    "\t\t<td> 1 </td>\n",
    "\t\t<td> 0 </td>\n",
    "\t\t<td></td>\n",
    "\t</tr>\n",
    "\t<tr>\n",
    "\t\t<td> 0 </td>\n",
    "\t\t<td> 1 </td>\n",
    "\t\t<td> 1 </td>\n",
    "\t\t<td></td>\n",
    "\t</tr>\n",
    "\t<tr>\n",
    "\t\t<td> 1 </td>\n",
    "\t\t<td> 0 </td>\n",
    "\t\t<td> 0 </td>\n",
    "\t\t<td></td>\n",
    "\t</tr>\n",
    "\t<tr>\n",
    "\t\t<td> 1 </td>\n",
    "\t\t<td> 0 </td>\n",
    "\t\t<td> 1 </td>\n",
    "\t\t<td></td>\n",
    "\t</tr>\n",
    "\t<tr>\n",
    "\t\t<td> 1 </td>\n",
    "\t\t<td> 1 </td>\n",
    "\t\t<td> 0 </td>\n",
    "\t\t<td></td>\n",
    "\t</tr>\n",
    "\t<tr>\n",
    "\t\t<td> 1 </td>\n",
    "\t\t<td> 1 </td>\n",
    "\t\t<td> 1 </td>\n",
    "\t<td></td>\n",
    "\t</tr>\n",
    "    </tbody>\n",
    "</table> "
   ]
  },
  {
   "cell_type": "markdown",
   "metadata": {
    "deletable": false,
    "nbgrader": {}
   },
   "source": [
    "### Q2.1 Joint probability formula [2pts, HELP]\n",
    "<div class=\"alert alert-success\">\n",
    "First, write down the equation for the joint probability distribution. Your answer should indicate how the probability can be calculated from $P(X=x)$, $P(Y=y)$, and $P(Z=z\\ |\\ X=x,Y=y)$. As a reminder, your answer MUST be formatted using LaTeX.\n",
    "</div>"
   ]
  },
  {
   "cell_type": "markdown",
   "metadata": {
    "deletable": false,
    "nbgrader": {
     "checksum": "97ccd42befc620a630b3ead4d2079119",
     "grade": true,
     "grade_id": "joint-equation",
     "points": 0.5,
     "solution": true
    }
   },
   "source": [
    "YOUR ANSWER HERE"
   ]
  },
  {
   "cell_type": "markdown",
   "metadata": {
    "deletable": false,
    "nbgrader": {}
   },
   "source": [
    "### Q2.2. Joint probability code [3pts, SOLO]\n",
    "<div class=\"alert alert-success\">Now, complete the function `joint` so that it returns the joint probability as you defined it above. Use the functions `p_x`, `p_y`, and `p_z_given_xy` in the function definition, but do *not* call the function `bernoulli` (values of $\\theta$ are defined in `p_x`, `p_y`, and `p_z_given_xy`). </div>\n",
    "\n",
    "\n",
    "To emphasize, `p_x`, `p_y`, and `p_z_given_xy` are *functions* that you can call (choosing and using the correct inputs, of course).\n",
    "\n",
    "Once you have completed your function, we can compute the values for Table 2 by applying the `joint` function to each combination of $x$, $y$, and $z$ values in the next cell. Report the output of this cell in gradescope, as well as your code for the `joint` function.\n"
   ]
  },
  {
   "cell_type": "code",
   "execution_count": null,
   "metadata": {
    "deletable": false,
    "nbgrader": {
     "checksum": "daf6b4e1d28c38e9501e5eb9978f212c",
     "grade_id": "joint",
     "solution": true
    }
   },
   "outputs": [],
   "source": [
    "def joint(x, y, z):\n",
    "    \"\"\"\n",
    "    Returns the joint probability distribution P(X=x, Y=y, Z=z)\n",
    "    for the values x, y, and z.\n",
    "    \n",
    "    Parameters\n",
    "    ----------\n",
    "    x, y, z: integer\n",
    "        Value of random variable X, Y, and Z, respectively\n",
    " \n",
    "    Returns\n",
    "    -------\n",
    "    a float corresponding to the probability\n",
    "    \n",
    "    \"\"\"\n",
    "    # YOUR CODE HERE"
   ]
  },
  {
   "cell_type": "code",
   "execution_count": null,
   "metadata": {
    "deletable": false,
    "nbgrader": {}
   },
   "outputs": [],
   "source": [
    "# add your own test cases here!\n"
   ]
  },
  {
   "cell_type": "code",
   "execution_count": null,
   "metadata": {
    "deletable": false,
    "nbgrader": {
     "checksum": "3ffbccc4f253dde4bfa53eeabeec2fcb",
     "grade": true,
     "grade_id": "test_joint",
     "points": 0.5
    }
   },
   "outputs": [],
   "source": [
    "\"\"\"Check that `joint` produces expected output.\"\"\"\n",
    "from numpy.testing import assert_allclose\n",
    "\n",
    "# first assume that p_x, p_y, and p_z_given_xy have the specified values\n",
    "assert_allclose(joint(0, 0, 0), 0.304)\n",
    "assert_allclose(joint(1, 1, 1), 0.12)\n",
    "\n",
    "# check that the p_x, p_y, and p_z_given_xy functions are called\n",
    "old_p_x = p_x\n",
    "old_p_y = p_y\n",
    "old_p_z_given_xy = p_z_given_xy\n",
    "del p_x\n",
    "del p_y\n",
    "del p_z_given_xy\n",
    "try:\n",
    "    joint(0, 0, 1)\n",
    "except NameError:\n",
    "    pass\n",
    "else:\n",
    "    raise AssertionError(\"joint does not call one or more of the p_x, p_y, and/or p_z_given_xy functions\")\n",
    "finally:\n",
    "    p_x = old_p_x\n",
    "    p_y = old_p_y\n",
    "    p_z_given_xy = old_p_z_given_xy\n",
    "    del old_p_x\n",
    "    del old_p_y\n",
    "    del old_p_z_given_xy\n",
    "    \n",
    "# switch out p_x, p_y, and p_z_given_xy with alternative theta values\n",
    "old_p_x = p_x\n",
    "old_p_y = p_y\n",
    "old_p_z_given_xy = p_z_given_xy\n",
    "def p_x(x):\n",
    "    return bernoulli(x, 0.5)\n",
    "def p_y(y):\n",
    "    return bernoulli(y, 0.3)\n",
    "def p_z_given_xy(z, x, y):\n",
    "    if x == 0 and y == 0:\n",
    "        return bernoulli(z, 0.8)\n",
    "    else:\n",
    "        return bernoulli(z, 0.7)\n",
    "\n",
    "try:\n",
    "    assert_allclose(joint(0, 0, 0), 0.07)\n",
    "    assert_allclose(joint(0, 0, 1), 0.28)\n",
    "    assert_allclose(joint(0, 1, 0), 0.045)\n",
    "    assert_allclose(joint(0, 1, 1), 0.105)\n",
    "    assert_allclose(joint(1, 0, 0), 0.105)\n",
    "    assert_allclose(joint(1, 0, 1), 0.245)\n",
    "    assert_allclose(joint(1, 1, 0), 0.045)\n",
    "    assert_allclose(joint(1, 1, 1), 0.105)\n",
    "finally:\n",
    "    p_x = old_p_x\n",
    "    p_y = old_p_y\n",
    "    p_z_given_xy = old_p_z_given_xy\n",
    "    del old_p_x, old_p_y, old_p_z_given_xy\n",
    "    \n",
    "print(\"Success!\")"
   ]
  },
  {
   "cell_type": "code",
   "execution_count": null,
   "metadata": {
    "deletable": false,
    "nbgrader": {}
   },
   "outputs": [],
   "source": [
    "# Copy the output of this cell in gradescope\n",
    "for x in [0, 1]:\n",
    "    for y in [0, 1]:\n",
    "        for z in [0, 1]:\n",
    "            print(\"P(X={}, Y={}, Z={}) = {}\".format(x, y, z, joint(x, y, z)))"
   ]
  },
  {
   "cell_type": "markdown",
   "metadata": {},
   "source": [
    "### Q2.3. Joint probability discussion [2pts, SOLO]\n",
    "If you coded the `joint` function right, the cell above with test cases should return `success!`. Furthermore, three events should have a probability of $0$. Say in words which three events these are, and explain in words why that is so, based on what the random variables mean (e.g. sprinkler etc.) and what the graphical model is."
   ]
  },
  {
   "cell_type": "markdown",
   "metadata": {
    "deletable": false,
    "nbgrader": {}
   },
   "source": [
    "---\n",
    "## Q3  Conditional probability [5 pts total]\n",
    "\n",
    "Imagine that you observed the grass is wet in the morning ($Z=1$). What happens to your beliefs about the sprinklers being on and whether it rained? To answer this question we need to compute the conditional distribution over $X$ and $Y$ when $Z=z$, $P(X=x,Y=y\\ |\\ Z=z)$. We can calculate the conditional distribution from the joint distribution $P(X=x, Y=y, Z=z)$ as follows:\n",
    "\n",
    "$$\n",
    "P(X=x,Y=y\\ |\\ Z=z)=\\frac{P(X=x, Y=y, Z=z)}{\\sum_{x^\\prime\\in\\{0, 1\\}}\\sum_{y^\\prime\\in \\{0, 1\\}} P(X=x^\\prime, Y=y^\\prime, Z=z)}\n",
    "$$\n",
    "\n",
    "Note that the denominator of this equation is equivalent to $P(Z=z)$."
   ]
  },
  {
   "cell_type": "markdown",
   "metadata": {
    "collapsed": true,
    "deletable": false,
    "nbgrader": {
     "solution": false
    }
   },
   "source": [
    "\n",
    "## Q3.1 Conditional probability function [2 pts, HELP]\n",
    "<div class=\"alert alert-success\">Complete the function `p_xy_given_z` so that it returns $P(X=x,Y=y~|~Z=z)$ for given values of $x$, $y$, $z$. Your answer should use the `joint` function you implemented above.\n",
    "</div>\n",
    "Copy your answer insto gradescope."
   ]
  },
  {
   "cell_type": "code",
   "execution_count": null,
   "metadata": {
    "deletable": false,
    "nbgrader": {
     "checksum": "90c4bd4ec60c6d8793084ddf3099bcaf",
     "grade_id": "p_xy_given_z",
     "solution": true
    }
   },
   "outputs": [],
   "source": [
    "def p_xy_given_z(x, y, z):\n",
    "    \"\"\"\n",
    "    Returns the conditional probability distribution P(X=x, Y=y | Z=z)\n",
    "    for the values x, y, and z.\n",
    "    \n",
    "    Parameters\n",
    "    ----------\n",
    "    x, y, z: integers\n",
    "        values of random variables X, Y, and Z, respectively\n",
    " \n",
    "    Returns\n",
    "    -------\n",
    "    a float corresponding to the probability\n",
    "    \n",
    "    \"\"\"\n",
    "    # YOUR CODE HERE"
   ]
  },
  {
   "cell_type": "code",
   "execution_count": null,
   "metadata": {
    "deletable": false,
    "nbgrader": {}
   },
   "outputs": [],
   "source": [
    "# add your own test cases here!\n"
   ]
  },
  {
   "cell_type": "code",
   "execution_count": null,
   "metadata": {
    "deletable": false,
    "nbgrader": {
     "checksum": "c13b2b447541a62d397c2727d9ad2f79",
     "grade": true,
     "grade_id": "test_p_xy_given_z",
     "points": 1
    }
   },
   "outputs": [],
   "source": [
    "\"\"\"Check that `p_xy_given_z` produces expected output.\"\"\"\n",
    "\n",
    "assert_allclose(p_xy_given_z(0, 0, 0), 1.0, atol=1e-05)\n",
    "assert_allclose(p_xy_given_z(0, 1, 1), 0.11494, atol=1e-05)\n",
    "assert_allclose(p_xy_given_z(1, 0, 1), 0.68965, atol=1e-05)\n",
    "    \n",
    "# check that it calls joint\n",
    "old_joint = joint\n",
    "del joint\n",
    "try:\n",
    "    p_xy_given_z(0, 0, 1)\n",
    "except NameError:\n",
    "    pass\n",
    "else:\n",
    "    raise AssertionError(\"p_xy_given_z does not call the joint function\")\n",
    "finally:\n",
    "    joint = old_joint\n",
    "    del old_joint\n",
    "    \n",
    "# switch out p_x, p_y, and p_z_given_xy with alternative theta values\n",
    "old_p_x = p_x\n",
    "old_p_y = p_y\n",
    "old_p_z_given_xy = p_z_given_xy\n",
    "def p_x(x):\n",
    "    return bernoulli(x, 0.5)\n",
    "def p_y(y):\n",
    "    return bernoulli(y, 0.3)\n",
    "def p_z_given_xy(z, x, y):\n",
    "    if x == 0 and y == 0:\n",
    "        return bernoulli(z, 0.8)\n",
    "    else:\n",
    "        return bernoulli(z, 0.7)\n",
    "\n",
    "try:\n",
    "    assert_allclose(p_xy_given_z(0, 0, 0), 0.2641509433962263, atol=1e-05)\n",
    "    assert_allclose(p_xy_given_z(0, 1, 0), 0.169811320754717, atol=1e-05)\n",
    "    assert_allclose(p_xy_given_z(1, 0, 0), 0.39622641509433965, atol=1e-05)\n",
    "    assert_allclose(p_xy_given_z(1, 1, 0), 0.169811320754717, atol=1e-05)\n",
    "    assert_allclose(p_xy_given_z(0, 0, 1), 0.380952380952381, atol=1e-05)\n",
    "    assert_allclose(p_xy_given_z(0, 1, 1), 0.14285714285714288, atol=1e-05)\n",
    "    assert_allclose(p_xy_given_z(1, 0, 1), 0.33333333333333337, atol=1e-05)\n",
    "    assert_allclose(p_xy_given_z(1, 1, 1), 0.14285714285714288, atol=1e-05)\n",
    "finally:\n",
    "    p_x = old_p_x\n",
    "    p_y = old_p_y\n",
    "    p_z_given_xy = old_p_z_given_xy\n",
    "    del old_p_x, old_p_y, old_p_z_given_xy\n",
    "\n",
    "print(\"Success!\")"
   ]
  },
  {
   "cell_type": "markdown",
   "metadata": {
    "collapsed": true,
    "deletable": false,
    "nbgrader": {
     "solution": false
    }
   },
   "source": []
  },
  {
   "cell_type": "markdown",
   "metadata": {
    "deletable": false,
    "nbgrader": {}
   },
   "source": [
    "## Q3.2 Conditional probability discussion [3 pts, SOLO]\n",
    "A) Once you have completed `p_xy_given_z`, we can compute the probabilities for each value of $x$, $y$, and $z$:\n",
    "Run the next cell, and copy the output into gradescope.\n",
    "\n",
    "B) If your output is correct, you should see that $P(X = 0, Y=0|Z=0) = 1$. Explain in gradescope what this means in terms of sprinklers, rain and wet grass, and the generative model as it is set up.\n",
    "\n",
    "C) If your output is correct, $P(X = 0, Y=1|Z=1)1$ should be smaller than $P(X = 1, Y=0|Z=1)1$. Explain in words what this means in our situation, and explain why this makes sense based on our generative model. \n",
    "\n",
    "Note that you can answer B and C even if you have trouble with your code."
   ]
  },
  {
   "cell_type": "code",
   "execution_count": null,
   "metadata": {
    "deletable": false,
    "nbgrader": {}
   },
   "outputs": [],
   "source": [
    "# Copy the output of this cell in gradescope for Q3.2A\n",
    "\n",
    "for z in [0, 1]:\n",
    "    for x in [0, 1]:\n",
    "        for y in [0, 1]:\n",
    "            print(\"P(X={}, Y={} | Z={}) = {}\".format(x, y, z, p_xy_given_z(x, y, z)))"
   ]
  },
  {
   "cell_type": "markdown",
   "metadata": {
    "deletable": false,
    "nbgrader": {
     "solution": false
    }
   },
   "source": [
    "---\n",
    "## Q4. Marginalizing [8 pts total]\n",
    "\n",
    "\n",
    "### Q4.1. Equation [2pts, HELP]\n",
    "Now let's say that we are just interested in the belief about whether the sprinklers were on, given that we observed that the grass was wet ($Z=1$).\n",
    "\n",
    "<div class=\"alert alert-success\">Define $P(X=x\\ |\\ Z=z)$ following the same format and conventions as $P(X=x,Y=y~|~Z=z)$ above. Your answer should indicate how this can be calculated from $P(X=x, Y=y, Z=z)$. As a reminder, your answer MUST be formatted using LaTeX.</div>"
   ]
  },
  {
   "cell_type": "markdown",
   "metadata": {
    "deletable": false,
    "nbgrader": {
     "checksum": "511fc3e5c2636373d5f92a4f7eb34b4f",
     "grade": true,
     "grade_id": "eq_p_x_given_z",
     "points": 0.33,
     "solution": true
    }
   },
   "source": [
    "YOUR ANSWER HERE"
   ]
  },
  {
   "cell_type": "markdown",
   "metadata": {
    "deletable": false,
    "nbgrader": {}
   },
   "source": [
    "\n",
    "### Q4.2. p_x_given_z [3pts, SOLO]\n",
    "<div class=\"alert alert-success\">Complete the function `p_x_given_z` so that it returns $P(X=x\\ |\\ Z=z)$ for given values of $x$ and $z$. Your function should call the functions you implemented earlier (not `Bernoulli`).</div>\n",
    "Check that it's right with the provided test cases and your own. \n",
    "\n",
    "**Q4.2 A** Copy your code into gradescope.\n",
    "\n",
    "**Q4.2 B** Also report the output of the cell below, where indicated."
   ]
  },
  {
   "cell_type": "code",
   "execution_count": null,
   "metadata": {
    "deletable": false,
    "nbgrader": {
     "checksum": "5c5375d31b8209e95f2ec0853c578533",
     "grade_id": "p_x_given_z",
     "solution": true
    }
   },
   "outputs": [],
   "source": [
    "def p_x_given_z(x, z):\n",
    "    \"\"\"\n",
    "    Returns the marginal probability distribution P(X=x | Z=z) given \n",
    "    the values x and z.\n",
    "    \n",
    "    Parameters\n",
    "    ----------\n",
    "    x, z : integers\n",
    "        values of the random variables X and Z, respectively\n",
    " \n",
    "    Returns\n",
    "    -------\n",
    "    a float corresponding to the probability\n",
    "    \n",
    "    \"\"\"\n",
    "    # YOUR CODE HERE"
   ]
  },
  {
   "cell_type": "code",
   "execution_count": null,
   "metadata": {
    "deletable": false,
    "nbgrader": {}
   },
   "outputs": [],
   "source": [
    "# add your own test cases here!\n"
   ]
  },
  {
   "cell_type": "code",
   "execution_count": null,
   "metadata": {
    "deletable": false,
    "nbgrader": {
     "checksum": "ee17bca2e25112785099daf7a6c6e7ff",
     "grade": true,
     "grade_id": "test_p_x_given_z",
     "points": 0.34
    }
   },
   "outputs": [],
   "source": [
    "\"\"\"Check that `p_x_given_z` produces expected output.\"\"\"\n",
    "    \n",
    "# check that it calls joint\n",
    "old_joint = joint\n",
    "del joint\n",
    "try:\n",
    "    p_x_given_z(0, 1)\n",
    "except NameError:\n",
    "    pass\n",
    "else:\n",
    "    raise AssertionError(\"p_x_given_z does not call the joint function\")\n",
    "finally:\n",
    "    joint = old_joint\n",
    "    del old_joint\n",
    "    \n",
    "# switch out p_x, p_y, and p_z_given_xy with alternative theta values\n",
    "old_p_x = p_x\n",
    "old_p_y = p_y\n",
    "old_p_z_given_xy = p_z_given_xy\n",
    "def p_x(x):\n",
    "    return bernoulli(x, 0.5)\n",
    "def p_y(y):\n",
    "    return bernoulli(y, 0.3)\n",
    "def p_z_given_xy(z, x, y):\n",
    "    if x == 0 and y == 0:\n",
    "        return bernoulli(z, 0.8)\n",
    "    else:\n",
    "        return bernoulli(z, 0.7)\n",
    "\n",
    "try:\n",
    "    assert_allclose(p_x_given_z(1, 1), 0.4761904761904762, atol=1e-05)\n",
    "    assert_allclose(p_x_given_z(0, 1), 0.5238095238095238, atol=1e-05)\n",
    "    assert_allclose(p_x_given_z(1, 0), 0.5660377358490567, atol=1e-05)\n",
    "    assert_allclose(p_x_given_z(0, 0), 0.43396226415094336, atol=1e-05)\n",
    "finally:\n",
    "    p_x = old_p_x\n",
    "    p_y = old_p_y\n",
    "    p_z_given_xy = old_p_z_given_xy\n",
    "    del old_p_x, old_p_y, old_p_z_given_xy\n",
    "\n",
    "print(\"Success!\")"
   ]
  },
  {
   "cell_type": "markdown",
   "metadata": {
    "collapsed": true,
    "deletable": false,
    "nbgrader": {}
   },
   "source": [
    "\n",
    "**Q4.2 B** \n",
    "\n",
    "Once you have implemented `p_x_given_z`, we can print out the probability table for all values of $X$ and $Z$.\n",
    "Report the output of the cell below in gradescope.\n"
   ]
  },
  {
   "cell_type": "code",
   "execution_count": null,
   "metadata": {
    "deletable": false,
    "nbgrader": {}
   },
   "outputs": [],
   "source": [
    "# Copy the output of this cell in gradescope for Q4.2B\n",
    "\n",
    "for z in [0, 1]:\n",
    "    for x in [0, 1]:\n",
    "        print(\"P(X={} | Z={}) = {}\".format(x, z, p_x_given_z(x, z)))"
   ]
  },
  {
   "cell_type": "markdown",
   "metadata": {
    "deletable": false,
    "nbgrader": {}
   },
   "source": [
    "### Q4.3. Calculate p_x_given_z [3pts, SOLO]\n",
    "<div class=\"alert alert-success\">\n",
    "Run the cell below to compute $P(~X=1~)$ and $P(~X=1~|~Z=1~)$, and copy it in gradescope. What does observing that the grass is wet do to the belief about whether the sprinklers were on? Explain why it makes sense.\n",
    "</div>"
   ]
  },
  {
   "cell_type": "code",
   "execution_count": null,
   "metadata": {
    "deletable": false,
    "nbgrader": {
     "checksum": "efc568ca0a9ed051ad8f83e5fc1230a9",
     "grade": false,
     "grade_id": "part_d_results",
     "locked": true,
     "solution": false
    }
   },
   "outputs": [],
   "source": [
    "# Copy the output of this cell in gradescope\n",
    "print(\"P(X=1)       = {}\".format(p_x(1)))\n",
    "print(\"P(X=1 | Z=1) = {}\".format(p_x_given_z(1, 1)))"
   ]
  },
  {
   "cell_type": "markdown",
   "metadata": {
    "deletable": false,
    "nbgrader": {
     "checksum": "2e1b6bd3410e019da983ac4df55107d3",
     "grade": true,
     "grade_id": "part_d",
     "points": 0.33,
     "solution": true
    }
   },
   "source": [
    "YOUR ANSWER HERE"
   ]
  },
  {
   "cell_type": "markdown",
   "metadata": {
    "deletable": false,
    "nbgrader": {}
   },
   "source": [
    "---\n",
    "## Q5 [7 pts total]\n",
    "\n",
    "Imagine you got into your car, and heard on the radio that it rained last night ($Y=1$). We're going to see how does this affect your beliefs about the sprinklers being on\n",
    "\n",
    "\n",
    "### Q5.1 Equation [2pts, HELP]\n",
    "<div class=\"alert alert-success\">Write down the equation for $P(X=x\\ |\\ Y=y,Z=z)$ following the same format and conventions as $P(X=x,Y=y~|~Z=z)$ above. Your answer should indicate how this can be calculated from $P(X=x, Y=y, Z=z)$. As a reminder, your answer MUST be formatted using LaTeX.</div>"
   ]
  },
  {
   "cell_type": "markdown",
   "metadata": {
    "deletable": false,
    "nbgrader": {
     "checksum": "84dd0df91692a688182c672afec8bee0",
     "grade": true,
     "grade_id": "eq_p_x_given_zy",
     "points": 0.33,
     "solution": true
    }
   },
   "source": [
    "YOUR ANSWER HERE"
   ]
  },
  {
   "cell_type": "markdown",
   "metadata": {
    "deletable": false,
    "nbgrader": {}
   },
   "source": [
    "### Q5.2 Code [3pts, SOLO]\n",
    "<div class=\"alert alert-success\">Having written the equation above, complete the function `p_x_given_yz` so that it computes $P(~X=x~|~Y=y,Z=z~)$ for given values of $x$, $y$ and $z$. As before, your function should call the `joint` function you defined before, or a function that calls it.</div>\n",
    "\n",
    "**Q5.2 A** Copy your function code in Gradescope.    \n",
    "   \n",
    "   \n",
    "**Q5.2 B** Copy the output of the cell printing out the full table values into Gradescope."
   ]
  },
  {
   "cell_type": "code",
   "execution_count": null,
   "metadata": {
    "deletable": false,
    "nbgrader": {
     "checksum": "1f3db42baef379345de8d4b8a1b5f6e5",
     "grade_id": "p_x_given_yz",
     "solution": true
    }
   },
   "outputs": [],
   "source": [
    "def p_x_given_yz(x, y, z):\n",
    "    \"\"\"\n",
    "    Returns the conditional probability distribution P(X=x | Y=y, Z=z)\n",
    "    given the values x, y, and z.\n",
    "    \n",
    "    Parameters\n",
    "    ----------\n",
    "    x, y, z : integers\n",
    "        values of the random variables X, Y, and Z\n",
    " \n",
    "    Returns\n",
    "    -------\n",
    "    a float corresponding to the probability\n",
    "    \n",
    "    \"\"\"\n",
    "    # YOUR CODE HERE\n",
    "    if joint(x,y,z)==0:\n",
    "        return(0)\n",
    "    else:\n",
    "        return(joint(x,y,z)/(joint(0,y,z)+joint(1,y,z)))"
   ]
  },
  {
   "cell_type": "code",
   "execution_count": null,
   "metadata": {
    "deletable": false,
    "nbgrader": {}
   },
   "outputs": [],
   "source": [
    "# add your own test cases here!\n"
   ]
  },
  {
   "cell_type": "code",
   "execution_count": null,
   "metadata": {
    "deletable": false,
    "nbgrader": {
     "checksum": "30aaba16ba57392f6333ab364f86b16c",
     "grade": true,
     "grade_id": "test_p_x_given_yz",
     "points": 0.34
    }
   },
   "outputs": [],
   "source": [
    "\"\"\"Check that `p_x_given_yz` produces expected output.\"\"\"\n",
    "\n",
    "    \n",
    "# check that it calls joint\n",
    "old_joint = joint\n",
    "del joint\n",
    "try:\n",
    "    p_x_given_yz(0, 1, 1)\n",
    "except NameError:\n",
    "    pass\n",
    "else:\n",
    "    raise AssertionError(\"p_x_given_yz does not call the joint function\")\n",
    "finally:\n",
    "    joint = old_joint\n",
    "    del old_joint\n",
    "    \n",
    "# switch out p_x, p_y, and p_z_given_xy with alternative theta values\n",
    "old_p_x = p_x\n",
    "old_p_y = p_y\n",
    "old_p_z_given_xy = p_z_given_xy\n",
    "def p_x(x):\n",
    "    return bernoulli(x, 0.5)\n",
    "def p_y(y):\n",
    "    return bernoulli(y, 0.3)\n",
    "def p_z_given_xy(z, x, y):\n",
    "    if x == 0 and y == 0:\n",
    "        return bernoulli(z, 0.8)\n",
    "    else:\n",
    "        return bernoulli(z, 0.7)\n",
    "\n",
    "try:\n",
    "    assert_allclose(p_x_given_yz(0, 0, 0), 0.4, atol=1e-05)\n",
    "    assert_allclose(p_x_given_yz(1, 0, 0), 0.6, atol=1e-05)\n",
    "    assert_allclose(p_x_given_yz(0, 1, 0), 0.5, atol=1e-05)\n",
    "    assert_allclose(p_x_given_yz(1, 1, 0), 0.5, atol=1e-05)\n",
    "    assert_allclose(p_x_given_yz(0, 0, 1), 0.5333333333333333, atol=1e-05)\n",
    "    assert_allclose(p_x_given_yz(1, 0, 1), 0.4666666666666667, atol=1e-05)\n",
    "    assert_allclose(p_x_given_yz(0, 1, 1), 0.5, atol=1e-05)\n",
    "    assert_allclose(p_x_given_yz(1, 1, 1), 0.5, atol=1e-05)\n",
    "finally:\n",
    "    p_x = old_p_x\n",
    "    p_y = old_p_y\n",
    "    p_z_given_xy = old_p_z_given_xy\n",
    "    del old_p_x, old_p_y, old_p_z_given_xy\n",
    "\n",
    "print(\"Success!\")"
   ]
  },
  {
   "cell_type": "markdown",
   "metadata": {
    "deletable": false,
    "nbgrader": {}
   },
   "source": [
    "After you have implemented `p_x_given_yz`, you can print out the full probability table:"
   ]
  },
  {
   "cell_type": "code",
   "execution_count": null,
   "metadata": {
    "deletable": false,
    "nbgrader": {}
   },
   "outputs": [],
   "source": [
    "# Copy the output of this cell in gradescope\n",
    "for z in [0, 1]:\n",
    "    for y in [0, 1]:\n",
    "        for x in [0, 1]:\n",
    "            print(\"P(X={} | Y={}, Z={}) = {}\".format(x, y, z, p_x_given_yz(x, y, z)))"
   ]
  },
  {
   "cell_type": "markdown",
   "metadata": {
    "deletable": false,
    "nbgrader": {}
   },
   "source": [
    "### Q5.3 Interpretation  [2pts, SOLO]\n",
    "\n",
    "\n",
    "<div class=\"alert alert-success\">Run the cell below to compute $P(~X=1~|~Z=1~)$, $P(~X=1~|~Y=1,Z=1~)$, and $P(~X=1~)$. What is the effect of hearing that it rained ($Y=1$) on your belief that the sprinklers were on ($X=1$), given that you knew the grass was wet? How does this compare to your belief about whether the sprinklers were on in absence of any knowledge about the state of the grass? Why does observing that it rained cause this happen?</div> \n",
    "\n",
    "Hint: if your code is right, you should see $P(~X=1~|~Z=1~) = 0.862$, and $P(~X=1~|~Y=1,Z=1~) = 0.6$. If your code does not produce the right result, you can still answer the question *based on those correct values*."
   ]
  },
  {
   "cell_type": "code",
   "execution_count": null,
   "metadata": {
    "deletable": false,
    "nbgrader": {
     "checksum": "0f4736b8cd87c3dd89013ce75be1e9b0",
     "grade": false,
     "grade_id": "part_e_results",
     "locked": true,
     "solution": false
    }
   },
   "outputs": [],
   "source": [
    "# Copy the output of this cell in Gradescope for Q5.3A\n",
    "\n",
    "print(\"P(X=1 | Z=1)      = {}\".format(p_x_given_z(1, 1)))\n",
    "print(\"P(X=1 | Y=1, Z=1) = {}\".format(p_x_given_yz(1, 1, 1)))\n",
    "print(\"P(X=1)            = {}\".format(p_x(1)))"
   ]
  },
  {
   "cell_type": "markdown",
   "metadata": {
    "deletable": false,
    "nbgrader": {
     "checksum": "bb402837ea42c8cea2220b9aa56dcb94",
     "grade": true,
     "grade_id": "part_e",
     "points": 0.33,
     "solution": true
    }
   },
   "source": [
    "YOUR ANSWER HERE"
   ]
  },
  {
   "cell_type": "markdown",
   "metadata": {
    "deletable": false,
    "nbgrader": {}
   },
   "source": [
    "---\n",
    "## Q6 Final discussion [5 pts, SOLO]\n",
    "\n",
    "<div class=\"alert alert-success\">The two pieces of evidence we observed (wet grass, and hearing that it rained) both affected the Bayesian network's belief about the sprinklers being on. Compare the pattern of inferences produced by the Bayesian network with those that might result from using a production system of the kind explored in Problem Set 3. You don't need to focus on a specific production system or work out its predictions -- just highlight the aspects of this inference that might be hard to capture using a production system.</div>"
   ]
  },
  {
   "cell_type": "markdown",
   "metadata": {
    "deletable": false,
    "nbgrader": {
     "checksum": "9a115df07d13ef2cc57599d57ad0c123",
     "grade": true,
     "grade_id": "part_f",
     "points": 1,
     "solution": true
    }
   },
   "source": [
    "YOUR ANSWER HERE"
   ]
  },
  {
   "cell_type": "markdown",
   "metadata": {},
   "source": [
    "<div style=\"background-color: #c1f2a5\">\n",
    "\n",
    "# Submission\n",
    "\n",
    "### <span style=\"color:red\">Attention! Code submission requirement!</span>   \n",
    "    \n",
    "When you're done with your problem set, do the following:\n",
    "- Upload your answers in Gradescope's PS9.\n",
    "- Convert your Jupyter Notebook into a `.py` file by doing so:    \n",
    "    \n",
    "</div>\n",
    "\n",
    "\n",
    "<center>    \n",
    "  <img src=\"https://www.dropbox.com/s/7s189m4dsvu5j65/instruction.png?dl=1\" width=\"300\"/>\n",
    "</center>\n",
    "\n",
    "<div style=\"background-color: #c1f2a5\">\n",
    "    \n",
    "- Submit the `.py` file you just created in Gradescope's PS7-code.\n",
    "    \n",
    "</div>        \n",
    "\n",
    "\n",
    "\n",
    "\n",
    "</div>\n"
   ]
  },
  {
   "cell_type": "markdown",
   "metadata": {
    "deletable": false,
    "nbgrader": {}
   },
   "source": [
    "---"
   ]
  }
 ],
 "metadata": {
  "celltoolbar": "Edit Metadata",
  "kernelspec": {
   "display_name": "Python 3",
   "language": "python",
   "name": "python3"
  },
  "language_info": {
   "codemirror_mode": {
    "name": "ipython",
    "version": 3
   },
   "file_extension": ".py",
   "mimetype": "text/x-python",
   "name": "python",
   "nbconvert_exporter": "python",
   "pygments_lexer": "ipython3",
   "version": "3.7.6"
  },
  "toc": {
   "base_numbering": 1,
   "nav_menu": {},
   "number_sections": false,
   "sideBar": true,
   "skip_h1_title": false,
   "title_cell": "Table of Contents",
   "title_sidebar": "Contents",
   "toc_cell": false,
   "toc_position": {},
   "toc_section_display": true,
   "toc_window_display": false
  },
  "varInspector": {
   "cols": {
    "lenName": 16,
    "lenType": 16,
    "lenVar": 40
   },
   "kernels_config": {
    "python": {
     "delete_cmd_postfix": "",
     "delete_cmd_prefix": "del ",
     "library": "var_list.py",
     "varRefreshCmd": "print(var_dic_list())"
    },
    "r": {
     "delete_cmd_postfix": ") ",
     "delete_cmd_prefix": "rm(",
     "library": "var_list.r",
     "varRefreshCmd": "cat(var_dic_list()) "
    }
   },
   "types_to_exclude": [
    "module",
    "function",
    "builtin_function_or_method",
    "instance",
    "_Feature"
   ],
   "window_display": false
  }
 },
 "nbformat": 4,
 "nbformat_minor": 1
}
