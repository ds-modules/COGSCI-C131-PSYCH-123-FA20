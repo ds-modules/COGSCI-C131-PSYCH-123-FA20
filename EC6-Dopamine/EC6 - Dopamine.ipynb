{
 "cells": [
  {
   "cell_type": "markdown",
   "metadata": {},
   "source": [
    "The Schulz, Dayan & Montague 1997 *Science* paper is a seminal finding showing the link between dopamine neurons' firing rate and temporal difference reward prediction error in a Pavlovian conditioning experiment. In this assignment, you will reproduce the model simulations in the paper. You should:\n",
    "\n",
    "- carefully read the paper (you can find it in the EC6 folder in bcourses).\n",
    "- code the model as explained in the paper.\n",
    "- reproduce figure 3 of the paper. You don't have to reproduce it *exactly* visually, but do your best to make your plots show the same qualitative results as in the figure.\n",
    "- change some parameters of the model, visualize the corresponding changes, and explain in one paragraph what differences you observe and why you think they happened.\n",
    "\n",
    "\n",
    "Then, upload your notebook to bcourses as a .ipynb. If you have issues with the .ipynb format, upload it as a pdf instead."
   ]
  },
  {
   "cell_type": "code",
   "execution_count": null,
   "metadata": {},
   "outputs": [],
   "source": []
  }
 ],
 "metadata": {
  "kernelspec": {
   "display_name": "Python 3",
   "language": "python",
   "name": "python3"
  },
  "language_info": {
   "codemirror_mode": {
    "name": "ipython",
    "version": 3
   },
   "file_extension": ".py",
   "mimetype": "text/x-python",
   "name": "python",
   "nbconvert_exporter": "python",
   "pygments_lexer": "ipython3",
   "version": "3.8.3"
  }
 },
 "nbformat": 4,
 "nbformat_minor": 4
}
